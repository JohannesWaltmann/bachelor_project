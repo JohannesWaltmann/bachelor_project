{
 "cells": [
  {
   "cell_type": "markdown",
   "source": [
    "# Notebook for the Analysis of Audio Data\n",
    "---\n",
    "This notebook perfroms a simple audio analysis based around the [Fast Fourier Transformation](https://en.wikipedia.org/wiki/Fast_Fourier_transform) of wave audio files (wav).\n",
    "For the import and transformation of the wav files different features from the scipy package are used.\n",
    "\n",
    "Finally a classification of the files is made using the Extra Trees Classifier provided by scikit learn.\n"
   ],
   "metadata": {
    "collapsed": false
   }
  },
  {
   "cell_type": "code",
   "execution_count": 41,
   "outputs": [],
   "source": [
    "import math\n",
    "from scipy.io import wavfile\n",
    "from scipy.fft import fft\n",
    "import matplotlib.pyplot as plt\n",
    "import numpy as np\n",
    "import os\n",
    "import pandas as pd\n",
    "import seaborn as sn\n",
    "from tqdm import tqdm\n",
    "\n",
    "\n",
    "plt.rcParams['figure.facecolor'] = 'white'  # enhances visibility in darkmode IDEs\n",
    "plt.rcParams[\"figure.figsize\"] = (1.96, 1.96)\n",
    "plt.rcParams['font.size'] = 4.2\n"
   ],
   "metadata": {
    "collapsed": false,
    "pycharm": {
     "name": "#%%\n"
    }
   }
  },
  {
   "cell_type": "markdown",
   "source": [
    "# Data Import #\n",
    "***\n",
    "Walk over a directory determined by a given path and append the datapaths of all found files to a list."
   ],
   "metadata": {
    "collapsed": false
   }
  },
  {
   "cell_type": "code",
   "execution_count": 28,
   "outputs": [],
   "source": [
    "_DATAPATHS = []\n",
    "rootdir = './bachelor_project/Data/Study Recordings'\n",
    "\n",
    "for subdir, dirs, files in os.walk(rootdir):\n",
    "    for file in files:\n",
    "        path = os.path.join(subdir, file)\n",
    "        _DATAPATHS.append(path)\n"
   ],
   "metadata": {
    "collapsed": false,
    "pycharm": {
     "name": "#%%\n"
    }
   }
  },
  {
   "cell_type": "code",
   "execution_count": 3,
   "outputs": [],
   "source": [
    "def fourier_transform(data):\n",
    "    \"\"\"\n",
    "    Performs a fast fourier transformation for a given array of wav data.\n",
    "\n",
    "    :param data: Array of frequency values gained from a wav recording.\n",
    "    :return: The absolute values of the fourier transformed data.\n",
    "    \"\"\"\n",
    "    transformed_data = fft(data)\n",
    "    return np.abs(transformed_data[:int((len(transformed_data)/2)-1)])\n"
   ],
   "metadata": {
    "collapsed": false,
    "pycharm": {
     "name": "#%%\n"
    }
   }
  },
  {
   "cell_type": "markdown",
   "source": [
    "# Generation of a Data Set\n",
    "---\n",
    "The following code block uses the previous imported data path to generate a data set for the latter analysis.\n",
    "For this the following steps are performed:\n",
    "   * Read sample rate and freqency data from a wave audio file\n",
    "   * Reshape the frequencies by applying a StandardScaler from scikit learn\n",
    "   * Perform the Fast Fourier Transformation for both original data and the scaled data\n",
    "\n",
    "The final data set contains the information gained from the steps described above as well as other key information about each recording.\n"
   ],
   "metadata": {
    "collapsed": false
   }
  },
  {
   "cell_type": "code",
   "execution_count": 29,
   "outputs": [],
   "source": [
    "from sklearn.preprocessing import StandardScaler\n",
    "\n",
    "sScaler = StandardScaler()\n",
    "_DATASET = []\n",
    "\n",
    "for d in _DATAPATHS:\n",
    "\n",
    "    # Import the wave audio\n",
    "    slr, wav_data = wavfile.read(d)\n",
    "\n",
    "    # Apply StandardScaler to the audio data\n",
    "    wav_data_standardized = sScaler.fit_transform(wav_data.reshape(-1,1))\n",
    "\n",
    "    # Apply fft to both Standardized and normal audio data\n",
    "    # Saved data gets cropped by end and beginning noise of the samples\n",
    "    fft_data_nonStandard = fourier_transform(np.asarray(wav_data))[5:200000]\n",
    "    fft_data_Standardized = fourier_transform(np.asarray(wav_data_standardized))[5:200000]\n",
    "\n",
    "    # Append key informations and audio data to the data set\n",
    "    _DATASET.append({'path': d,\n",
    "                    'pid': int(os.path.basename(d).split('_')[0].replace('p', '')),\n",
    "                    'session': int(os.path.basename(d).split('_')[1].replace('s', '')),\n",
    "                    'hand': os.path.basename(d).split('_')[2].replace('u', ''),\n",
    "                    'melody_type': os.path.basename(d).split('_')[3].replace('.wav', '')[0:-1],\n",
    "                    'samplerate': slr,\n",
    "                    'wav': wav_data,\n",
    "                    'wav_standardized': wav_data_standardized,\n",
    "                    'fft_nonStandard': fft_data_nonStandard,\n",
    "                    'fft_wthStandard': fft_data_Standardized})\n"
   ],
   "metadata": {
    "collapsed": false,
    "pycharm": {
     "name": "#%%\n"
    }
   }
  },
  {
   "cell_type": "markdown",
   "source": [
    "# Plot graphics for the audio data\n",
    "---\n",
    "The following three code blocks are each used to plot different variations of the audios from the data set.\n",
    "   1. Plots of the fft data for all entries of the data set\n",
    "   2. Plots of the wav audio for all entries of the data set\n",
    "   3. Plots of all variations of a specific sample grouped by their ID"
   ],
   "metadata": {
    "collapsed": false
   }
  },
  {
   "cell_type": "code",
   "execution_count": 34,
   "outputs": [
    {
     "name": "stderr",
     "output_type": "stream",
     "text": [
      "                                                 \r"
     ]
    },
    {
     "data": {
      "text/plain": "<Figure size 141.12x141.12 with 0 Axes>"
     },
     "metadata": {},
     "output_type": "display_data"
    }
   ],
   "source": [
    "for d in tqdm(_DATASET):\n",
    "\n",
    "    plt.title(d['path'].split('_u')[-1].replace('.wav', '_fft'))\n",
    "    plt.plot(d['fft_wthStandard'], label='p1')\n",
    "    plt.ticklabel_format(useOffset=False, style='plain')\n",
    "    plt.savefig(d['path'].split('\\\\')[-1].replace('.wav', '_fftNorm.pdf'))\n",
    "    plt.clf()\n"
   ],
   "metadata": {
    "collapsed": false,
    "pycharm": {
     "name": "#%%\n"
    }
   }
  },
  {
   "cell_type": "code",
   "execution_count": 42,
   "outputs": [
    {
     "name": "stderr",
     "output_type": "stream",
     "text": [
      "                                                 \r"
     ]
    },
    {
     "data": {
      "text/plain": "<Figure size 141.12x141.12 with 0 Axes>"
     },
     "metadata": {},
     "output_type": "display_data"
    }
   ],
   "source": [
    "for d in tqdm(_DATASET):\n",
    "\n",
    "    plt.title(d['path'].split('_u')[-1].replace('.wav', ''))\n",
    "\n",
    "    data = d['wav']\n",
    "    length = data.shape[0] / d['samplerate']\n",
    "    time = np.linspace(0, length, data.shape[0])\n",
    "\n",
    "    plt.plot(time, data)\n",
    "    plt.savefig(d['path'].split('\\\\')[-1].replace('.wav', 'raw_plot.pdf'))\n",
    "    plt.clf()\n"
   ],
   "metadata": {
    "collapsed": false,
    "pycharm": {
     "name": "#%%\n"
    }
   }
  },
  {
   "cell_type": "code",
   "execution_count": 64,
   "outputs": [
    {
     "data": {
      "text/plain": "<Figure size 141.12x141.12 with 1 Axes>",
      "image/png": "[encoded data removed]"
     },
     "metadata": {},
     "output_type": "display_data"
    }
   ],
   "source": [
    "plt.title('left_high_noNorm')\n",
    "plt.plot(_DATASET[0]['fft_nonStandard'], label='p0h1')\n",
    "plt.plot(_DATASET[1]['fft_nonStandard'], label='p0h2')\n",
    "plt.plot(_DATASET[2]['fft_nonStandard'], label='p0h3')\n",
    "plt.ticklabel_format(useOffset=False, style='plain')\n",
    "plt.legend()\n",
    "plt.savefig('p0_allHighs_left_noNorm.pdf')\n"
   ],
   "metadata": {
    "collapsed": false,
    "pycharm": {
     "name": "#%%\n"
    }
   }
  },
  {
   "cell_type": "markdown",
   "source": [
    "# Classification of the Audio data\n",
    "---\n",
    "Runs a classifier over all entries of the data set.\n",
    "For the classifier an ExtraTreesClassifier with a number of 1000 estimators is used.\n",
    "The audio data is sorted by tho keys (hand and sample type/melody).\n",
    "Training and validation set are split by the session ID of each entry.\n",
    "\n",
    "As final step the confusion matrices for each classification report are printed and stored as a pdf file."
   ],
   "metadata": {
    "collapsed": false
   }
  },
  {
   "cell_type": "code",
   "execution_count": 26,
   "outputs": [
    {
     "name": "stdout",
     "output_type": "stream",
     "text": [
      "high r\n",
      "Accurancy:  33.3333%\n",
      "              precision    recall  f1-score   support\n",
      "\n",
      "           0       0.29      0.67      0.40         3\n",
      "           1       0.00      0.00      0.00         3\n",
      "           2       0.50      0.33      0.40         3\n",
      "\n",
      "    accuracy                           0.33         9\n",
      "   macro avg       0.26      0.33      0.27         9\n",
      "weighted avg       0.26      0.33      0.27         9\n",
      "\n",
      "[[2 0 1]\n",
      " [3 0 0]\n",
      " [2 0 1]]\n"
     ]
    },
    {
     "name": "stderr",
     "output_type": "stream",
     "text": [
      "c:\\users\\waltmann\\johannes_waltmann_bachelorprojekt\\study\\analysis\\venv\\lib\\site-packages\\sklearn\\metrics\\_classification.py:1248: UndefinedMetricWarning: Precision and F-score are ill-defined and being set to 0.0 in labels with no predicted samples. Use `zero_division` parameter to control this behavior.\n",
      "  _warn_prf(average, modifier, msg_start, len(result))\n",
      "c:\\users\\waltmann\\johannes_waltmann_bachelorprojekt\\study\\analysis\\venv\\lib\\site-packages\\sklearn\\metrics\\_classification.py:1248: UndefinedMetricWarning: Precision and F-score are ill-defined and being set to 0.0 in labels with no predicted samples. Use `zero_division` parameter to control this behavior.\n",
      "  _warn_prf(average, modifier, msg_start, len(result))\n",
      "c:\\users\\waltmann\\johannes_waltmann_bachelorprojekt\\study\\analysis\\venv\\lib\\site-packages\\sklearn\\metrics\\_classification.py:1248: UndefinedMetricWarning: Precision and F-score are ill-defined and being set to 0.0 in labels with no predicted samples. Use `zero_division` parameter to control this behavior.\n",
      "  _warn_prf(average, modifier, msg_start, len(result))\n"
     ]
    },
    {
     "data": {
      "text/plain": "<Figure size 216x216 with 2 Axes>",
      "image/png": "[encoded data removed]"
     },
     "metadata": {},
     "output_type": "display_data"
    },
    {
     "name": "stdout",
     "output_type": "stream",
     "text": [
      "high l\n",
      "Accurancy:  66.6667%\n",
      "              precision    recall  f1-score   support\n",
      "\n",
      "           0       0.50      1.00      0.67         3\n",
      "           1       1.00      1.00      1.00         3\n",
      "           2       0.00      0.00      0.00         3\n",
      "\n",
      "    accuracy                           0.67         9\n",
      "   macro avg       0.50      0.67      0.56         9\n",
      "weighted avg       0.50      0.67      0.56         9\n",
      "\n",
      "[[3 0 0]\n",
      " [0 3 0]\n",
      " [3 0 0]]\n"
     ]
    },
    {
     "name": "stderr",
     "output_type": "stream",
     "text": [
      "c:\\users\\waltmann\\johannes_waltmann_bachelorprojekt\\study\\analysis\\venv\\lib\\site-packages\\sklearn\\metrics\\_classification.py:1248: UndefinedMetricWarning: Precision and F-score are ill-defined and being set to 0.0 in labels with no predicted samples. Use `zero_division` parameter to control this behavior.\n",
      "  _warn_prf(average, modifier, msg_start, len(result))\n",
      "c:\\users\\waltmann\\johannes_waltmann_bachelorprojekt\\study\\analysis\\venv\\lib\\site-packages\\sklearn\\metrics\\_classification.py:1248: UndefinedMetricWarning: Precision and F-score are ill-defined and being set to 0.0 in labels with no predicted samples. Use `zero_division` parameter to control this behavior.\n",
      "  _warn_prf(average, modifier, msg_start, len(result))\n",
      "c:\\users\\waltmann\\johannes_waltmann_bachelorprojekt\\study\\analysis\\venv\\lib\\site-packages\\sklearn\\metrics\\_classification.py:1248: UndefinedMetricWarning: Precision and F-score are ill-defined and being set to 0.0 in labels with no predicted samples. Use `zero_division` parameter to control this behavior.\n",
      "  _warn_prf(average, modifier, msg_start, len(result))\n"
     ]
    },
    {
     "data": {
      "text/plain": "<Figure size 216x216 with 2 Axes>",
      "image/png": "[encoded data removed]"
     },
     "metadata": {},
     "output_type": "display_data"
    },
    {
     "name": "stdout",
     "output_type": "stream",
     "text": [
      "low r\n",
      "Accurancy:  66.6667%\n",
      "              precision    recall  f1-score   support\n",
      "\n",
      "           0       0.50      1.00      0.67         3\n",
      "           1       1.00      1.00      1.00         3\n",
      "           2       0.00      0.00      0.00         3\n",
      "\n",
      "    accuracy                           0.67         9\n",
      "   macro avg       0.50      0.67      0.56         9\n",
      "weighted avg       0.50      0.67      0.56         9\n",
      "\n",
      "[[3 0 0]\n",
      " [0 3 0]\n",
      " [3 0 0]]\n"
     ]
    },
    {
     "name": "stderr",
     "output_type": "stream",
     "text": [
      "c:\\users\\waltmann\\johannes_waltmann_bachelorprojekt\\study\\analysis\\venv\\lib\\site-packages\\sklearn\\metrics\\_classification.py:1248: UndefinedMetricWarning: Precision and F-score are ill-defined and being set to 0.0 in labels with no predicted samples. Use `zero_division` parameter to control this behavior.\n",
      "  _warn_prf(average, modifier, msg_start, len(result))\n",
      "c:\\users\\waltmann\\johannes_waltmann_bachelorprojekt\\study\\analysis\\venv\\lib\\site-packages\\sklearn\\metrics\\_classification.py:1248: UndefinedMetricWarning: Precision and F-score are ill-defined and being set to 0.0 in labels with no predicted samples. Use `zero_division` parameter to control this behavior.\n",
      "  _warn_prf(average, modifier, msg_start, len(result))\n",
      "c:\\users\\waltmann\\johannes_waltmann_bachelorprojekt\\study\\analysis\\venv\\lib\\site-packages\\sklearn\\metrics\\_classification.py:1248: UndefinedMetricWarning: Precision and F-score are ill-defined and being set to 0.0 in labels with no predicted samples. Use `zero_division` parameter to control this behavior.\n",
      "  _warn_prf(average, modifier, msg_start, len(result))\n"
     ]
    },
    {
     "data": {
      "text/plain": "<Figure size 216x216 with 2 Axes>",
      "image/png": "[encoded data removed]"
     },
     "metadata": {},
     "output_type": "display_data"
    },
    {
     "name": "stdout",
     "output_type": "stream",
     "text": [
      "low l\n",
      "Accurancy:  44.4444%\n",
      "              precision    recall  f1-score   support\n",
      "\n",
      "           0       1.00      0.67      0.80         3\n",
      "           1       0.40      0.67      0.50         3\n",
      "           2       0.00      0.00      0.00         3\n",
      "\n",
      "    accuracy                           0.44         9\n",
      "   macro avg       0.47      0.44      0.43         9\n",
      "weighted avg       0.47      0.44      0.43         9\n",
      "\n",
      "[[2 0 1]\n",
      " [0 2 1]\n",
      " [0 3 0]]\n"
     ]
    },
    {
     "data": {
      "text/plain": "<Figure size 216x216 with 2 Axes>",
      "image/png": "[encoded data removed]"
     },
     "metadata": {},
     "output_type": "display_data"
    },
    {
     "name": "stdout",
     "output_type": "stream",
     "text": [
      "mel r\n",
      "Accurancy:  55.5556%\n",
      "              precision    recall  f1-score   support\n",
      "\n",
      "           0       0.60      1.00      0.75         3\n",
      "           1       0.50      0.67      0.57         3\n",
      "           2       0.00      0.00      0.00         3\n",
      "\n",
      "    accuracy                           0.56         9\n",
      "   macro avg       0.37      0.56      0.44         9\n",
      "weighted avg       0.37      0.56      0.44         9\n",
      "\n",
      "[[3 0 0]\n",
      " [1 2 0]\n",
      " [1 2 0]]\n"
     ]
    },
    {
     "name": "stderr",
     "output_type": "stream",
     "text": [
      "c:\\users\\waltmann\\johannes_waltmann_bachelorprojekt\\study\\analysis\\venv\\lib\\site-packages\\sklearn\\metrics\\_classification.py:1248: UndefinedMetricWarning: Precision and F-score are ill-defined and being set to 0.0 in labels with no predicted samples. Use `zero_division` parameter to control this behavior.\n",
      "  _warn_prf(average, modifier, msg_start, len(result))\n",
      "c:\\users\\waltmann\\johannes_waltmann_bachelorprojekt\\study\\analysis\\venv\\lib\\site-packages\\sklearn\\metrics\\_classification.py:1248: UndefinedMetricWarning: Precision and F-score are ill-defined and being set to 0.0 in labels with no predicted samples. Use `zero_division` parameter to control this behavior.\n",
      "  _warn_prf(average, modifier, msg_start, len(result))\n",
      "c:\\users\\waltmann\\johannes_waltmann_bachelorprojekt\\study\\analysis\\venv\\lib\\site-packages\\sklearn\\metrics\\_classification.py:1248: UndefinedMetricWarning: Precision and F-score are ill-defined and being set to 0.0 in labels with no predicted samples. Use `zero_division` parameter to control this behavior.\n",
      "  _warn_prf(average, modifier, msg_start, len(result))\n"
     ]
    },
    {
     "data": {
      "text/plain": "<Figure size 216x216 with 2 Axes>",
      "image/png": "[encoded data removed]"
     },
     "metadata": {},
     "output_type": "display_data"
    },
    {
     "name": "stdout",
     "output_type": "stream",
     "text": [
      "mel l\n",
      "Accurancy:  33.3333%\n",
      "              precision    recall  f1-score   support\n",
      "\n",
      "           0       1.00      0.67      0.80         3\n",
      "           1       0.25      0.33      0.29         3\n",
      "           2       0.00      0.00      0.00         3\n",
      "\n",
      "    accuracy                           0.33         9\n",
      "   macro avg       0.42      0.33      0.36         9\n",
      "weighted avg       0.42      0.33      0.36         9\n",
      "\n",
      "[[2 0 1]\n",
      " [0 1 2]\n",
      " [0 3 0]]\n"
     ]
    },
    {
     "data": {
      "text/plain": "<Figure size 216x216 with 2 Axes>",
      "image/png": "[encoded data removed]"
     },
     "metadata": {},
     "output_type": "display_data"
    }
   ],
   "source": [
    "from sklearn.ensemble import ExtraTreesClassifier\n",
    "from sklearn.metrics import classification_report, confusion_matrix, accuracy_score\n",
    "\n",
    "\n",
    "for melody in ['high', 'low', 'mel']:\n",
    "    for hand in ['r', 'l']:\n",
    "\n",
    "        x_train = np.array([d['fft_nonStandard'] for d in _DATASET if d['session'] == 0 and d['melody_type'] == melody and d['hand'] == hand]).reshape(9,-1)\n",
    "        x_val = np.array([d['fft_nonStandard'] for d in _DATASET if d['session'] == 1 and d['melody_type'] == melody and d['hand'] == hand]).reshape(9,-1)\n",
    "\n",
    "        y_train = np.array([d['pid'] for d in _DATASET if d['session'] == 0 and d['melody_type'] == melody and d['hand'] == hand])\n",
    "        y_val = np.array([d['pid'] for d in _DATASET if d['session'] == 1 and d['melody_type'] == melody and d['hand'] == hand])\n",
    "\n",
    "\n",
    "        clf = ExtraTreesClassifier(n_estimators=1000, random_state=0)\n",
    "        clf.fit(x_train, y_train)\n",
    "\n",
    "        y_pred = clf.predict(x_val)\n",
    "\n",
    "        report = classification_report(y_val, y_pred)\n",
    "        cm = confusion_matrix(y_val, y_pred)\n",
    "        \n",
    "        print(melody, hand)\n",
    "        accuracy = accuracy_score(y_train, y_pred, normalize=True)*100\n",
    "        print(f'Accurancy: {accuracy: .4f}%')\n",
    "        print(report)\n",
    "        print(cm)\n",
    "        labels = ['p_0', 'p_1', 'p_2']\n",
    "\n",
    "        df_cm = pd.DataFrame(cm, index = labels, columns = labels)\n",
    "        plt.figure(figsize= (3,3))\n",
    "        sn_plot = sn.heatmap(df_cm, annot=True, cmap='Blues')\n",
    "        plt.xlabel(\"True Label\")\n",
    "        plt.ylabel(\"Predicted Label\")\n",
    "\n",
    "        plt.savefig(f'confusion_matrix_{melody}_{hand}.pdf')\n",
    "        plt.show()\n"
   ],
   "metadata": {
    "collapsed": false,
    "pycharm": {
     "name": "#%%\n"
    }
   }
  }
 ],
 "metadata": {
  "kernelspec": {
   "display_name": "Python 3",
   "language": "python",
   "name": "python3"
  },
  "language_info": {
   "codemirror_mode": {
    "name": "ipython",
    "version": 3
   },
   "file_extension": ".py",
   "mimetype": "text/x-python",
   "name": "python",
   "nbconvert_exporter": "python",
   "pygments_lexer": "ipython3",
   "version": "3.7.7"
  }
 },
 "nbformat": 4,
 "nbformat_minor": 1
}